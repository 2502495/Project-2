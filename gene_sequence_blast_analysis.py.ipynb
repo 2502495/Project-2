{
 "cells": [
  {
   "cell_type": "markdown",
   "id": "2879377c-9209-4c3d-a38d-116609245fd1",
   "metadata": {
    "tags": []
   },
   "source": [
    "![GitHub Logo] (https://github.com/2502495/Project-2/blob/main/UoB-Faculty-of-life-sciences_RED.png)\n",
    "# **PROJECT 2: PATHOGENIC ISLAND DETECTION IN A NEW STRAIN OF _YERSINIA_**\n",
    "# Quintessentially Paradigmatic Plan, Designed Based on Knowledge of Various Biological Concepts, Developed and Implemented Different Strategies to Tackle a Scientific Problem Taking Advantage of the Modularity of Bioinformatics Approaches.\n",
    "By 2502495\n",
    "January 14, 2024 \n"
   ]
  },
  {
   "cell_type": "code",
   "execution_count": 6,
   "id": "1e779f7f-b8a3-4198-b41b-5cb91cdc221c",
   "metadata": {
    "tags": []
   },
   "outputs": [],
   "source": [
    "#Import Required Libraries\n",
    "from Bio import SeqIO\n",
    "from Bio.Blast import NCBIWWW\n",
    "import os\n"
   ]
  },
  {
   "cell_type": "code",
   "execution_count": 2,
   "id": "89c9f750",
   "metadata": {
    "tags": []
   },
   "outputs": [],
   "source": [
    "from Bio import Entrez\n",
    "\n",
    "# Set your email here\n",
    "Entrez.email = \"your_email@example.com\"\n",
    "\n",
    "# List of provided protein IDs\n",
    "ids = [\n",
    "    \"CAI77377.1\",\n",
    "    \"AAT90758.1\",\n",
    "    \"WP_004875774.1\",\n",
    "    \"WP_050116509.1\",\n",
    "    \"AAM83780.1\",\n",
    "    \"ABX88260.1\",\n",
    "    \"CAH22792.1\",\n",
    "    \"CAE13263.1\",\n",
    "    \"AAG55972.1\",\n",
    "    \"WP_047345313.1\",\n",
    "    \"WP_047964150.1\",\n",
    "    \"AAQ61208.1\"\n",
    "]\n",
    "\n",
    "# Open a file to write the sequences\n",
    "with open(\"holin_sequences.fasta\", \"w\") as file:\n",
    "    for i in ids:\n",
    "        # Fetch each sequence from NCBI and write to the file\n",
    "        handle = Entrez.efetch(db=\"protein\", id=i, rettype=\"fasta\", retmode=\"text\")\n",
    "        file.write(handle.read())\n"
   ]
  },
  {
   "cell_type": "code",
   "execution_count": 3,
   "id": "6490398e",
   "metadata": {
    "tags": []
   },
   "outputs": [],
   "source": [
    "#Function to Retrieve Sequences from a FASTA File\n",
    "\n",
    "def retrieve_sequence(fasta_file, gene_id):\n",
    "    for record in SeqIO.parse(fasta_file, \"fasta\"):\n",
    "        if record.id == gene_id:\n",
    "            return record.seq\n",
    "    return None\n"
   ]
  },
  {
   "cell_type": "raw",
   "id": "7be9644e-2fe1-4ab9-8606-ae14733dadd6",
   "metadata": {},
   "source": [
    "#Function to Perform BLAST Analysis\n",
    "\n",
    "def blast_sequence(sequence, database=\"nr\", program=\"blastp\", format_type=\"Text\"):\n",
    "    result_handle = NCBIWWW.qblast(program, database, sequence, format_type=format_type)\n",
    "    return result_handle.read()\n",
    "\n"
   ]
  },
  {
   "cell_type": "code",
   "execution_count": 3,
   "id": "6fee755a",
   "metadata": {},
   "outputs": [
    {
     "ename": "NameError",
     "evalue": "name 'SeqIO' is not defined",
     "output_type": "error",
     "traceback": [
      "\u001b[0;31m---------------------------------------------------------------------------\u001b[0m",
      "\u001b[0;31mNameError\u001b[0m                                 Traceback (most recent call last)",
      "Cell \u001b[0;32mIn[3], line 35\u001b[0m\n\u001b[1;32m     32\u001b[0m             \u001b[38;5;28mprint\u001b[39m(\u001b[38;5;124mf\u001b[39m\u001b[38;5;124m\"\u001b[39m\u001b[38;5;124mSequence for \u001b[39m\u001b[38;5;132;01m{\u001b[39;00mgene_id\u001b[38;5;132;01m}\u001b[39;00m\u001b[38;5;124m not found in \u001b[39m\u001b[38;5;132;01m{\u001b[39;00mfasta_file\u001b[38;5;132;01m}\u001b[39;00m\u001b[38;5;124m\"\u001b[39m)\n\u001b[1;32m     34\u001b[0m \u001b[38;5;28;01mif\u001b[39;00m \u001b[38;5;18m__name__\u001b[39m \u001b[38;5;241m==\u001b[39m \u001b[38;5;124m\"\u001b[39m\u001b[38;5;124m__main__\u001b[39m\u001b[38;5;124m\"\u001b[39m:\n\u001b[0;32m---> 35\u001b[0m     main()\n",
      "Cell \u001b[0;32mIn[3], line 22\u001b[0m, in \u001b[0;36mmain\u001b[0;34m()\u001b[0m\n\u001b[1;32m     20\u001b[0m \u001b[38;5;66;03m# Loop through each gene ID\u001b[39;00m\n\u001b[1;32m     21\u001b[0m \u001b[38;5;28;01mfor\u001b[39;00m gene_id \u001b[38;5;129;01min\u001b[39;00m gene_ids:\n\u001b[0;32m---> 22\u001b[0m     sequence \u001b[38;5;241m=\u001b[39m retrieve_sequence(fasta_file, gene_id)\n\u001b[1;32m     23\u001b[0m     \u001b[38;5;28;01mif\u001b[39;00m sequence:\n\u001b[1;32m     24\u001b[0m         \u001b[38;5;28mprint\u001b[39m(\u001b[38;5;124mf\u001b[39m\u001b[38;5;124m\"\u001b[39m\u001b[38;5;124mSequence for \u001b[39m\u001b[38;5;132;01m{\u001b[39;00mgene_id\u001b[38;5;132;01m}\u001b[39;00m\u001b[38;5;124m: \u001b[39m\u001b[38;5;132;01m{\u001b[39;00msequence\u001b[38;5;132;01m}\u001b[39;00m\u001b[38;5;124m\"\u001b[39m)\n",
      "Cell \u001b[0;32mIn[1], line 4\u001b[0m, in \u001b[0;36mretrieve_sequence\u001b[0;34m(fasta_file, gene_id)\u001b[0m\n\u001b[1;32m      3\u001b[0m \u001b[38;5;28;01mdef\u001b[39;00m \u001b[38;5;21mretrieve_sequence\u001b[39m(fasta_file, gene_id):\n\u001b[0;32m----> 4\u001b[0m     \u001b[38;5;28;01mfor\u001b[39;00m record \u001b[38;5;129;01min\u001b[39;00m SeqIO\u001b[38;5;241m.\u001b[39mparse(fasta_file, \u001b[38;5;124m\"\u001b[39m\u001b[38;5;124mfasta\u001b[39m\u001b[38;5;124m\"\u001b[39m):\n\u001b[1;32m      5\u001b[0m         \u001b[38;5;28;01mif\u001b[39;00m record\u001b[38;5;241m.\u001b[39mid \u001b[38;5;241m==\u001b[39m gene_id:\n\u001b[1;32m      6\u001b[0m             \u001b[38;5;28;01mreturn\u001b[39;00m record\u001b[38;5;241m.\u001b[39mseq\n",
      "\u001b[0;31mNameError\u001b[0m: name 'SeqIO' is not defined"
     ]
    }
   ],
   "source": [
    "# Main Workflow\n",
    "def main():\n",
    "    # Define the path to your FASTA file and gene IDs\n",
    "    fasta_file = \"holin_sequences.fasta\"\n",
    "    gene_ids = [\n",
    "    \"CAI77377.1\",\n",
    "    \"AAT90758.1\",\n",
    "    \"WP_004875774.1\",\n",
    "    \"WP_050116509.1\",\n",
    "    \"AAM83780.1\",\n",
    "    \"ABX88260.1\",\n",
    "    \"CAH22792.1\",\n",
    "    \"CAE13263.1\",\n",
    "    \"AAG55972.1\",\n",
    "    \"WP_047345313.1\",\n",
    "    \"WP_047964150.1\",\n",
    "    \"AAQ61208.1\"\n",
    "]\n",
    "    \n",
    "    # Loop through each gene ID\n",
    "    for gene_id in gene_ids:\n",
    "        sequence = retrieve_sequence(fasta_file, gene_id)\n",
    "        if sequence:\n",
    "            print(f\"Sequence for {gene_id}: {sequence}\")\n",
    "            # Perform BLAST analysis\n",
    "            blast_result = blast_sequence(sequence)\n",
    "            # Save BLAST results to a file\n",
    "            with open(f\"{gene_id}_blast_results.txt\", \"w\") as result_file:\n",
    "                result_file.write(blast_result)\n",
    "            print(f\"BLAST results for {gene_id} saved.\")\n",
    "        else:\n",
    "            print(f\"Sequence for {gene_id} not found in {fasta_file}\")\n",
    "\n",
    "if __name__ == \"__main__\":\n",
    "    main()\n"
   ]
  },
  {
   "cell_type": "code",
   "execution_count": null,
   "id": "00e9cfaa",
   "metadata": {},
   "outputs": [],
   "source": [
    "# Output file for consolidated results\n",
    "fasta_file = \"holin_sequences.fasta\"\n",
    "gene_ids = [\n",
    "    \"CAI77377.1\",\n",
    "    \"AAT90758.1\",\n",
    "    \"WP_004875774.1\",\n",
    "    \"WP_050116509.1\",\n",
    "    \"AAM83780.1\",\n",
    "    \"ABX88260.1\",\n",
    "    \"CAH22792.1\",\n",
    "    \"CAE13263.1\",\n",
    "    \"AAG55972.1\",\n",
    "    \"WP_047345313.1\",\n",
    "    \"WP_047964150.1\",\n",
    "    \"AAQ61208.1\"\n",
    "]\n",
    "with open(\"consolidated_blast_results.txt\", \"w\") as consolidated_file:\n",
    "    # Loop through each gene ID\n",
    "    for gene_id in gene_ids:\n",
    "        sequence = retrieve_sequence(fasta_file, gene_id)\n",
    "        if sequence:\n",
    "            # Write sequence to the consolidated file\n",
    "            consolidated_file.write(f\"Sequence for {gene_id}:\\n{sequence}\\n\")\n",
    "            \n",
    "            # Perform BLAST analysis\n",
    "            blast_result = blast_sequence(sequence)\n",
    "            \n",
    "            # Save BLAST results to individual files\n",
    "            with open(f\"{gene_id}_blast_results.txt\", \"w\") as result_file:\n",
    "                result_file.write(blast_result)\n",
    "            \n",
    "            # Write BLAST results to the consolidated file\n",
    "            consolidated_file.write(f\"BLAST results for {gene_id}:\\n{blast_result}\\n\")\n",
    "            \n",
    "            print(f\"BLAST results for {gene_id} saved.\")\n",
    "        else:\n",
    "            print(f\"Sequence for {gene_id} not found in {fasta_file}\")\n"
   ]
  },
  {
   "cell_type": "code",
   "execution_count": null,
   "id": "ee6d7896",
   "metadata": {},
   "outputs": [],
   "source": []
  },
  {
   "cell_type": "code",
   "execution_count": null,
   "id": "228cbf39",
   "metadata": {},
   "outputs": [],
   "source": []
  }
 ],
 "metadata": {
  "kernelspec": {
   "display_name": "Python 3 (ipykernel)",
   "language": "python",
   "name": "python3"
  },
  "language_info": {
   "codemirror_mode": {
    "name": "ipython",
    "version": 3
   },
   "file_extension": ".py",
   "mimetype": "text/x-python",
   "name": "python",
   "nbconvert_exporter": "python",
   "pygments_lexer": "ipython3",
   "version": "3.11.5"
  }
 },
 "nbformat": 4,
 "nbformat_minor": 5
}
